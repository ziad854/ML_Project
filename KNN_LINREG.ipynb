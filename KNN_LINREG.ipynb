{
 "cells": [
  {
   "cell_type": "code",
   "execution_count": 1,
   "id": "initial_id",
   "metadata": {
    "ExecuteTime": {
     "end_time": "2024-12-17T17:45:09.016310Z",
     "start_time": "2024-12-17T17:45:06.506686Z"
    },
    "collapsed": true
   },
   "outputs": [],
   "source": [
    "# Libraries for data manipulation and analysis\n",
    "import pandas as pd\n",
    "import numpy as np\n",
    "\n",
    "# Libraries for visualization\n",
    "import matplotlib.pyplot as plt\n",
    "\n",
    "# Libraries for Model \n",
    "from sklearn.preprocessing import LabelEncoder\n",
    "from sklearn.linear_model import LinearRegression\n",
    "from sklearn.metrics import mean_squared_error, r2_score,mean_absolute_error\n",
    "from sklearn.model_selection import train_test_split\n",
    "from sklearn.neighbors import KNeighborsRegressor\n",
    "from sklearn.preprocessing import StandardScaler"
   ]
  },
  {
   "cell_type": "code",
   "execution_count": 2,
   "id": "f35d313b65dfae90",
   "metadata": {
    "ExecuteTime": {
     "end_time": "2024-12-17T17:45:09.076123Z",
     "start_time": "2024-12-17T17:45:09.017379Z"
    }
   },
   "outputs": [],
   "source": [
    "df=pd.read_csv('melb_data.csv')"
   ]
  },
  {
   "cell_type": "markdown",
   "id": "a2e5043459bb45c4",
   "metadata": {},
   "source": [
    "# Data overview"
   ]
  },
  {
   "cell_type": "code",
   "execution_count": 3,
   "id": "d15c501aa99f8a98",
   "metadata": {
    "ExecuteTime": {
     "end_time": "2024-12-17T17:45:09.090203Z",
     "start_time": "2024-12-17T17:45:09.077134Z"
    }
   },
   "outputs": [
    {
     "name": "stdout",
     "output_type": "stream",
     "text": [
      "<class 'pandas.core.frame.DataFrame'>\n",
      "RangeIndex: 13580 entries, 0 to 13579\n",
      "Data columns (total 21 columns):\n",
      " #   Column         Non-Null Count  Dtype  \n",
      "---  ------         --------------  -----  \n",
      " 0   Suburb         13580 non-null  object \n",
      " 1   Address        13580 non-null  object \n",
      " 2   Rooms          13580 non-null  int64  \n",
      " 3   Type           13580 non-null  object \n",
      " 4   Price          13580 non-null  float64\n",
      " 5   Method         13580 non-null  object \n",
      " 6   SellerG        13580 non-null  object \n",
      " 7   Date           13580 non-null  object \n",
      " 8   Distance       13580 non-null  float64\n",
      " 9   Postcode       13580 non-null  float64\n",
      " 10  Bedroom2       13580 non-null  float64\n",
      " 11  Bathroom       13580 non-null  float64\n",
      " 12  Car            13518 non-null  float64\n",
      " 13  Landsize       13580 non-null  float64\n",
      " 14  BuildingArea   7130 non-null   float64\n",
      " 15  YearBuilt      8205 non-null   float64\n",
      " 16  CouncilArea    12211 non-null  object \n",
      " 17  Lattitude      13580 non-null  float64\n",
      " 18  Longtitude     13580 non-null  float64\n",
      " 19  Regionname     13580 non-null  object \n",
      " 20  Propertycount  13580 non-null  float64\n",
      "dtypes: float64(12), int64(1), object(8)\n",
      "memory usage: 2.2+ MB\n"
     ]
    }
   ],
   "source": [
    "df.info()"
   ]
  },
  {
   "cell_type": "code",
   "execution_count": 4,
   "id": "50e64b51144bdbe3",
   "metadata": {
    "ExecuteTime": {
     "end_time": "2024-12-17T17:45:09.125087Z",
     "start_time": "2024-12-17T17:45:09.091567Z"
    }
   },
   "outputs": [
    {
     "data": {
      "text/html": [
       "<div>\n",
       "<style scoped>\n",
       "    .dataframe tbody tr th:only-of-type {\n",
       "        vertical-align: middle;\n",
       "    }\n",
       "\n",
       "    .dataframe tbody tr th {\n",
       "        vertical-align: top;\n",
       "    }\n",
       "\n",
       "    .dataframe thead th {\n",
       "        text-align: right;\n",
       "    }\n",
       "</style>\n",
       "<table border=\"1\" class=\"dataframe\">\n",
       "  <thead>\n",
       "    <tr style=\"text-align: right;\">\n",
       "      <th></th>\n",
       "      <th>Rooms</th>\n",
       "      <th>Price</th>\n",
       "      <th>Distance</th>\n",
       "      <th>Postcode</th>\n",
       "      <th>Bedroom2</th>\n",
       "      <th>Bathroom</th>\n",
       "      <th>Car</th>\n",
       "      <th>Landsize</th>\n",
       "      <th>BuildingArea</th>\n",
       "      <th>YearBuilt</th>\n",
       "      <th>Lattitude</th>\n",
       "      <th>Longtitude</th>\n",
       "      <th>Propertycount</th>\n",
       "    </tr>\n",
       "  </thead>\n",
       "  <tbody>\n",
       "    <tr>\n",
       "      <th>count</th>\n",
       "      <td>13580.000000</td>\n",
       "      <td>1.358000e+04</td>\n",
       "      <td>13580.000000</td>\n",
       "      <td>13580.000000</td>\n",
       "      <td>13580.000000</td>\n",
       "      <td>13580.000000</td>\n",
       "      <td>13518.000000</td>\n",
       "      <td>13580.000000</td>\n",
       "      <td>7130.000000</td>\n",
       "      <td>8205.000000</td>\n",
       "      <td>13580.000000</td>\n",
       "      <td>13580.000000</td>\n",
       "      <td>13580.000000</td>\n",
       "    </tr>\n",
       "    <tr>\n",
       "      <th>mean</th>\n",
       "      <td>2.937997</td>\n",
       "      <td>1.075684e+06</td>\n",
       "      <td>10.137776</td>\n",
       "      <td>3105.301915</td>\n",
       "      <td>2.914728</td>\n",
       "      <td>1.534242</td>\n",
       "      <td>1.610075</td>\n",
       "      <td>558.416127</td>\n",
       "      <td>151.967650</td>\n",
       "      <td>1964.684217</td>\n",
       "      <td>-37.809203</td>\n",
       "      <td>144.995216</td>\n",
       "      <td>7454.417378</td>\n",
       "    </tr>\n",
       "    <tr>\n",
       "      <th>std</th>\n",
       "      <td>0.955748</td>\n",
       "      <td>6.393107e+05</td>\n",
       "      <td>5.868725</td>\n",
       "      <td>90.676964</td>\n",
       "      <td>0.965921</td>\n",
       "      <td>0.691712</td>\n",
       "      <td>0.962634</td>\n",
       "      <td>3990.669241</td>\n",
       "      <td>541.014538</td>\n",
       "      <td>37.273762</td>\n",
       "      <td>0.079260</td>\n",
       "      <td>0.103916</td>\n",
       "      <td>4378.581772</td>\n",
       "    </tr>\n",
       "    <tr>\n",
       "      <th>min</th>\n",
       "      <td>1.000000</td>\n",
       "      <td>8.500000e+04</td>\n",
       "      <td>0.000000</td>\n",
       "      <td>3000.000000</td>\n",
       "      <td>0.000000</td>\n",
       "      <td>0.000000</td>\n",
       "      <td>0.000000</td>\n",
       "      <td>0.000000</td>\n",
       "      <td>0.000000</td>\n",
       "      <td>1196.000000</td>\n",
       "      <td>-38.182550</td>\n",
       "      <td>144.431810</td>\n",
       "      <td>249.000000</td>\n",
       "    </tr>\n",
       "    <tr>\n",
       "      <th>25%</th>\n",
       "      <td>2.000000</td>\n",
       "      <td>6.500000e+05</td>\n",
       "      <td>6.100000</td>\n",
       "      <td>3044.000000</td>\n",
       "      <td>2.000000</td>\n",
       "      <td>1.000000</td>\n",
       "      <td>1.000000</td>\n",
       "      <td>177.000000</td>\n",
       "      <td>93.000000</td>\n",
       "      <td>1940.000000</td>\n",
       "      <td>-37.856822</td>\n",
       "      <td>144.929600</td>\n",
       "      <td>4380.000000</td>\n",
       "    </tr>\n",
       "    <tr>\n",
       "      <th>50%</th>\n",
       "      <td>3.000000</td>\n",
       "      <td>9.030000e+05</td>\n",
       "      <td>9.200000</td>\n",
       "      <td>3084.000000</td>\n",
       "      <td>3.000000</td>\n",
       "      <td>1.000000</td>\n",
       "      <td>2.000000</td>\n",
       "      <td>440.000000</td>\n",
       "      <td>126.000000</td>\n",
       "      <td>1970.000000</td>\n",
       "      <td>-37.802355</td>\n",
       "      <td>145.000100</td>\n",
       "      <td>6555.000000</td>\n",
       "    </tr>\n",
       "    <tr>\n",
       "      <th>75%</th>\n",
       "      <td>3.000000</td>\n",
       "      <td>1.330000e+06</td>\n",
       "      <td>13.000000</td>\n",
       "      <td>3148.000000</td>\n",
       "      <td>3.000000</td>\n",
       "      <td>2.000000</td>\n",
       "      <td>2.000000</td>\n",
       "      <td>651.000000</td>\n",
       "      <td>174.000000</td>\n",
       "      <td>1999.000000</td>\n",
       "      <td>-37.756400</td>\n",
       "      <td>145.058305</td>\n",
       "      <td>10331.000000</td>\n",
       "    </tr>\n",
       "    <tr>\n",
       "      <th>max</th>\n",
       "      <td>10.000000</td>\n",
       "      <td>9.000000e+06</td>\n",
       "      <td>48.100000</td>\n",
       "      <td>3977.000000</td>\n",
       "      <td>20.000000</td>\n",
       "      <td>8.000000</td>\n",
       "      <td>10.000000</td>\n",
       "      <td>433014.000000</td>\n",
       "      <td>44515.000000</td>\n",
       "      <td>2018.000000</td>\n",
       "      <td>-37.408530</td>\n",
       "      <td>145.526350</td>\n",
       "      <td>21650.000000</td>\n",
       "    </tr>\n",
       "  </tbody>\n",
       "</table>\n",
       "</div>"
      ],
      "text/plain": [
       "              Rooms         Price      Distance      Postcode      Bedroom2  \\\n",
       "count  13580.000000  1.358000e+04  13580.000000  13580.000000  13580.000000   \n",
       "mean       2.937997  1.075684e+06     10.137776   3105.301915      2.914728   \n",
       "std        0.955748  6.393107e+05      5.868725     90.676964      0.965921   \n",
       "min        1.000000  8.500000e+04      0.000000   3000.000000      0.000000   \n",
       "25%        2.000000  6.500000e+05      6.100000   3044.000000      2.000000   \n",
       "50%        3.000000  9.030000e+05      9.200000   3084.000000      3.000000   \n",
       "75%        3.000000  1.330000e+06     13.000000   3148.000000      3.000000   \n",
       "max       10.000000  9.000000e+06     48.100000   3977.000000     20.000000   \n",
       "\n",
       "           Bathroom           Car       Landsize  BuildingArea    YearBuilt  \\\n",
       "count  13580.000000  13518.000000   13580.000000   7130.000000  8205.000000   \n",
       "mean       1.534242      1.610075     558.416127    151.967650  1964.684217   \n",
       "std        0.691712      0.962634    3990.669241    541.014538    37.273762   \n",
       "min        0.000000      0.000000       0.000000      0.000000  1196.000000   \n",
       "25%        1.000000      1.000000     177.000000     93.000000  1940.000000   \n",
       "50%        1.000000      2.000000     440.000000    126.000000  1970.000000   \n",
       "75%        2.000000      2.000000     651.000000    174.000000  1999.000000   \n",
       "max        8.000000     10.000000  433014.000000  44515.000000  2018.000000   \n",
       "\n",
       "          Lattitude    Longtitude  Propertycount  \n",
       "count  13580.000000  13580.000000   13580.000000  \n",
       "mean     -37.809203    144.995216    7454.417378  \n",
       "std        0.079260      0.103916    4378.581772  \n",
       "min      -38.182550    144.431810     249.000000  \n",
       "25%      -37.856822    144.929600    4380.000000  \n",
       "50%      -37.802355    145.000100    6555.000000  \n",
       "75%      -37.756400    145.058305   10331.000000  \n",
       "max      -37.408530    145.526350   21650.000000  "
      ]
     },
     "execution_count": 4,
     "metadata": {},
     "output_type": "execute_result"
    }
   ],
   "source": [
    "df.describe()"
   ]
  },
  {
   "cell_type": "markdown",
   "id": "b7002eac",
   "metadata": {},
   "source": [
    "# Data cleaning and Preprocessing"
   ]
  },
  {
   "cell_type": "code",
   "execution_count": 5,
   "id": "6f511c93fe8d52dc",
   "metadata": {
    "ExecuteTime": {
     "end_time": "2024-12-17T17:45:09.141522Z",
     "start_time": "2024-12-17T17:45:09.125623Z"
    }
   },
   "outputs": [
    {
     "name": "stdout",
     "output_type": "stream",
     "text": [
      "<class 'pandas.core.frame.DataFrame'>\n",
      "RangeIndex: 13580 entries, 0 to 13579\n",
      "Data columns (total 24 columns):\n",
      " #   Column         Non-Null Count  Dtype         \n",
      "---  ------         --------------  -----         \n",
      " 0   Suburb         13580 non-null  object        \n",
      " 1   Address        13580 non-null  object        \n",
      " 2   Rooms          13580 non-null  int64         \n",
      " 3   Type           13580 non-null  object        \n",
      " 4   Price          13580 non-null  float64       \n",
      " 5   Method         13580 non-null  object        \n",
      " 6   SellerG        13580 non-null  object        \n",
      " 7   Date           13580 non-null  datetime64[ns]\n",
      " 8   Distance       13580 non-null  float64       \n",
      " 9   Postcode       13580 non-null  float64       \n",
      " 10  Bedroom2       13580 non-null  float64       \n",
      " 11  Bathroom       13580 non-null  float64       \n",
      " 12  Car            13518 non-null  float64       \n",
      " 13  Landsize       13580 non-null  float64       \n",
      " 14  BuildingArea   7130 non-null   float64       \n",
      " 15  YearBuilt      8205 non-null   float64       \n",
      " 16  CouncilArea    12211 non-null  object        \n",
      " 17  Lattitude      13580 non-null  float64       \n",
      " 18  Longtitude     13580 non-null  float64       \n",
      " 19  Regionname     13580 non-null  object        \n",
      " 20  Propertycount  13580 non-null  float64       \n",
      " 21  Year           13580 non-null  int32         \n",
      " 22  Month          13580 non-null  int32         \n",
      " 23  Day            13580 non-null  int32         \n",
      "dtypes: datetime64[ns](1), float64(12), int32(3), int64(1), object(7)\n",
      "memory usage: 2.3+ MB\n"
     ]
    }
   ],
   "source": [
    "df['Date'] = pd.to_datetime(df['Date'], format='%d/%m/%Y')\n",
    "df['Year'] = df['Date'].dt.year\n",
    "df['Month'] = df['Date'].dt.month\n",
    "df['Day'] = df['Date'].dt.day\n",
    "\n",
    "df.info()"
   ]
  },
  {
   "cell_type": "code",
   "execution_count": 6,
   "id": "fe04adef3010999e",
   "metadata": {
    "ExecuteTime": {
     "end_time": "2024-12-17T17:45:09.157190Z",
     "start_time": "2024-12-17T17:45:09.142528Z"
    }
   },
   "outputs": [
    {
     "data": {
      "text/plain": [
       "np.int64(0)"
      ]
     },
     "execution_count": 6,
     "metadata": {},
     "output_type": "execute_result"
    }
   ],
   "source": [
    "df.duplicated().sum()  "
   ]
  },
  {
   "cell_type": "code",
   "execution_count": 7,
   "id": "fd95bbff301bac4e",
   "metadata": {
    "ExecuteTime": {
     "end_time": "2024-12-17T17:45:09.167400Z",
     "start_time": "2024-12-17T17:45:09.158199Z"
    }
   },
   "outputs": [
    {
     "data": {
      "text/plain": [
       "Car               62\n",
       "BuildingArea    6450\n",
       "YearBuilt       5375\n",
       "CouncilArea     1369\n",
       "dtype: int64"
      ]
     },
     "execution_count": 7,
     "metadata": {},
     "output_type": "execute_result"
    }
   ],
   "source": [
    "missing_values=df.isnull().sum()\n",
    "missing_values[missing_values >0]"
   ]
  },
  {
   "cell_type": "code",
   "execution_count": 8,
   "id": "5cc3136564b730af",
   "metadata": {
    "ExecuteTime": {
     "end_time": "2024-12-17T17:45:09.177167Z",
     "start_time": "2024-12-17T17:45:09.168410Z"
    }
   },
   "outputs": [],
   "source": [
    "\n",
    "df['BuildingArea'] = df['BuildingArea'].fillna(df['BuildingArea'].mean())\n",
    "df['YearBuilt'] = df['YearBuilt'].fillna(df['YearBuilt'].mean())\n",
    "df['Car'] = df['Car'].fillna(df['Car'].mean())\n",
    "\n",
    "mode_value = df['CouncilArea'].mode()[0]\n",
    "df['CouncilArea'] = df['CouncilArea'].fillna(mode_value)\n",
    "\n"
   ]
  },
  {
   "cell_type": "code",
   "execution_count": 9,
   "id": "a87bb4aa37c8a6d9",
   "metadata": {
    "ExecuteTime": {
     "end_time": "2024-12-17T17:45:09.183602Z",
     "start_time": "2024-12-17T17:45:09.178177Z"
    }
   },
   "outputs": [],
   "source": [
    "# Dropping irrelevant columns\n",
    "df_clean=df.drop(columns=['Address','Date'])"
   ]
  },
  {
   "cell_type": "code",
   "execution_count": 10,
   "id": "598af4a1d1b0280",
   "metadata": {
    "ExecuteTime": {
     "end_time": "2024-12-17T17:45:09.196669Z",
     "start_time": "2024-12-17T17:45:09.186125Z"
    }
   },
   "outputs": [
    {
     "name": "stdout",
     "output_type": "stream",
     "text": [
      "<class 'pandas.core.frame.DataFrame'>\n",
      "RangeIndex: 13580 entries, 0 to 13579\n",
      "Data columns (total 22 columns):\n",
      " #   Column         Non-Null Count  Dtype  \n",
      "---  ------         --------------  -----  \n",
      " 0   Suburb         13580 non-null  object \n",
      " 1   Rooms          13580 non-null  int64  \n",
      " 2   Type           13580 non-null  object \n",
      " 3   Price          13580 non-null  float64\n",
      " 4   Method         13580 non-null  object \n",
      " 5   SellerG        13580 non-null  object \n",
      " 6   Distance       13580 non-null  float64\n",
      " 7   Postcode       13580 non-null  float64\n",
      " 8   Bedroom2       13580 non-null  float64\n",
      " 9   Bathroom       13580 non-null  float64\n",
      " 10  Car            13580 non-null  float64\n",
      " 11  Landsize       13580 non-null  float64\n",
      " 12  BuildingArea   13580 non-null  float64\n",
      " 13  YearBuilt      13580 non-null  float64\n",
      " 14  CouncilArea    13580 non-null  object \n",
      " 15  Lattitude      13580 non-null  float64\n",
      " 16  Longtitude     13580 non-null  float64\n",
      " 17  Regionname     13580 non-null  object \n",
      " 18  Propertycount  13580 non-null  float64\n",
      " 19  Year           13580 non-null  int32  \n",
      " 20  Month          13580 non-null  int32  \n",
      " 21  Day            13580 non-null  int32  \n",
      "dtypes: float64(12), int32(3), int64(1), object(6)\n",
      "memory usage: 2.1+ MB\n"
     ]
    }
   ],
   "source": [
    "df_clean.info()"
   ]
  },
  {
   "cell_type": "markdown",
   "id": "376894f9",
   "metadata": {},
   "source": [
    "# Visuals of Data"
   ]
  },
  {
   "cell_type": "code",
   "execution_count": 11,
   "id": "3919df39b75bd49",
   "metadata": {
    "ExecuteTime": {
     "end_time": "2024-12-17T17:45:10.069802Z",
     "start_time": "2024-12-17T17:45:09.240615Z"
    }
   },
   "outputs": [
    {
     "data": {
      "image/png": "[encoded data removed]",
      "text/plain": [
       "<Figure size 640x480 with 1 Axes>"
      ]
     },
     "metadata": {},
     "output_type": "display_data"
    },
    {
     "data": {
      "image/png": "[encoded data removed]",
      "text/plain": [
       "<Figure size 640x480 with 1 Axes>"
      ]
     },
     "metadata": {},
     "output_type": "display_data"
    },
    {
     "data": {
      "image/png": "[encoded data removed]",
      "text/plain": [
       "<Figure size 640x480 with 1 Axes>"
      ]
     },
     "metadata": {},
     "output_type": "display_data"
    },
    {
     "data": {
      "image/png": "[encoded data removed]",
      "text/plain": [
       "<Figure size 640x480 with 1 Axes>"
      ]
     },
     "metadata": {},
     "output_type": "display_data"
    },
    {
     "data": {
      "image/png": "[encoded data removed]",
      "text/plain": [
       "<Figure size 640x480 with 1 Axes>"
      ]
     },
     "metadata": {},
     "output_type": "display_data"
    },
    {
     "data": {
      "image/png": "[encoded data removed]",
      "text/plain": [
       "<Figure size 640x480 with 1 Axes>"
      ]
     },
     "metadata": {},
     "output_type": "display_data"
    },
    {
     "data": {
      "image/png": "[encoded data removed]",
      "text/plain": [
       "<Figure size 640x480 with 1 Axes>"
      ]
     },
     "metadata": {},
     "output_type": "display_data"
    },
    {
     "data": {
      "image/png": "[encoded data removed]",
      "text/plain": [
       "<Figure size 640x480 with 1 Axes>"
      ]
     },
     "metadata": {},
     "output_type": "display_data"
    },
    {
     "data": {
      "image/png": "[encoded data removed]",
      "text/plain": [
       "<Figure size 640x480 with 1 Axes>"
      ]
     },
     "metadata": {},
     "output_type": "display_data"
    },
    {
     "data": {
      "image/png": "[encoded data removed]",
      "text/plain": [
       "<Figure size 640x480 with 1 Axes>"
      ]
     },
     "metadata": {},
     "output_type": "display_data"
    },
    {
     "data": {
      "image/png": "[encoded data removed]",
      "text/plain": [
       "<Figure size 640x480 with 1 Axes>"
      ]
     },
     "metadata": {},
     "output_type": "display_data"
    },
    {
     "data": {
      "image/png": "[encoded data removed]",
      "text/plain": [
       "<Figure size 640x480 with 1 Axes>"
      ]
     },
     "metadata": {},
     "output_type": "display_data"
    },
    {
     "data": {
      "image/png": "[encoded data removed]",
      "text/plain": [
       "<Figure size 640x480 with 1 Axes>"
      ]
     },
     "metadata": {},
     "output_type": "display_data"
    }
   ],
   "source": [
    "plt.boxplot(df_clean['Price'])\n",
    "plt.title('Boxplot of Price')\n",
    "plt.show() \n",
    "\n",
    "plt.boxplot(df_clean['Rooms'])\n",
    "plt.title('Boxplot of Rooms')\n",
    "plt.show()\n",
    "\n",
    "plt.boxplot(df_clean['Distance'])\n",
    "plt.title('Boxplot of Distance')\n",
    "plt.show()\n",
    "\n",
    "plt.boxplot(df_clean['Postcode'])\n",
    "plt.title('Boxplot of Postcode')\n",
    "plt.show()\n",
    "\n",
    "plt.boxplot(df_clean['Bedroom2'])\n",
    "plt.title('Boxplot of Bedroom2')\n",
    "plt.show()\n",
    "\n",
    "plt.boxplot(df_clean['Bathroom'])\n",
    "plt.title('Boxplot of Bathroom')\n",
    "plt.show()\n",
    "\n",
    "plt.boxplot(df_clean['Car'])\n",
    "plt.title('Boxplot of Car')\n",
    "plt.show()\n",
    "\n",
    "plt.boxplot(df_clean['Landsize'])\n",
    "plt.title('Boxplot of Landsize')\n",
    "plt.show()\n",
    "\n",
    "plt.boxplot(df_clean['BuildingArea'])\n",
    "plt.title('Boxplot of BuildingArea')\n",
    "plt.show()\n",
    "\n",
    "plt.boxplot(df_clean['YearBuilt'])\n",
    "plt.title('Boxplot of YearBuilt')\n",
    "plt.show()\n",
    "\n",
    "plt.boxplot(df_clean['Lattitude'])\n",
    "plt.title('Boxplot of Lattitude')\n",
    "plt.show()\n",
    "\n",
    "plt.boxplot(df_clean['Longtitude'])\n",
    "plt.title('Boxplot of Longtitude')\n",
    "plt.show()\n",
    "\n",
    "plt.boxplot(df_clean['Propertycount'])\n",
    "plt.title('Boxplot of Propertycount')\n",
    "plt.show()"
   ]
  },
  {
   "cell_type": "code",
   "execution_count": 12,
   "id": "6ba165e8d3dd311a",
   "metadata": {
    "ExecuteTime": {
     "end_time": "2024-12-17T17:45:10.128328Z",
     "start_time": "2024-12-17T17:45:10.071857Z"
    }
   },
   "outputs": [
    {
     "data": {
      "text/html": [
       "<div>\n",
       "<style scoped>\n",
       "    .dataframe tbody tr th:only-of-type {\n",
       "        vertical-align: middle;\n",
       "    }\n",
       "\n",
       "    .dataframe tbody tr th {\n",
       "        vertical-align: top;\n",
       "    }\n",
       "\n",
       "    .dataframe thead th {\n",
       "        text-align: right;\n",
       "    }\n",
       "</style>\n",
       "<table border=\"1\" class=\"dataframe\">\n",
       "  <thead>\n",
       "    <tr style=\"text-align: right;\">\n",
       "      <th></th>\n",
       "      <th>Rooms</th>\n",
       "      <th>Price</th>\n",
       "      <th>Distance</th>\n",
       "      <th>Postcode</th>\n",
       "      <th>Bedroom2</th>\n",
       "      <th>Bathroom</th>\n",
       "      <th>Car</th>\n",
       "      <th>Landsize</th>\n",
       "      <th>BuildingArea</th>\n",
       "      <th>YearBuilt</th>\n",
       "      <th>Lattitude</th>\n",
       "      <th>Longtitude</th>\n",
       "      <th>Propertycount</th>\n",
       "      <th>Year</th>\n",
       "      <th>Month</th>\n",
       "      <th>Day</th>\n",
       "    </tr>\n",
       "  </thead>\n",
       "  <tbody>\n",
       "    <tr>\n",
       "      <th>count</th>\n",
       "      <td>13580.000000</td>\n",
       "      <td>1.358000e+04</td>\n",
       "      <td>13580.000000</td>\n",
       "      <td>13580.000000</td>\n",
       "      <td>13580.000000</td>\n",
       "      <td>13580.000000</td>\n",
       "      <td>13580.000000</td>\n",
       "      <td>13580.000000</td>\n",
       "      <td>13580.000000</td>\n",
       "      <td>13580.000000</td>\n",
       "      <td>13580.000000</td>\n",
       "      <td>13580.000000</td>\n",
       "      <td>13580.000000</td>\n",
       "      <td>13580.000000</td>\n",
       "      <td>13580.000000</td>\n",
       "      <td>13580.000000</td>\n",
       "    </tr>\n",
       "    <tr>\n",
       "      <th>mean</th>\n",
       "      <td>2.937997</td>\n",
       "      <td>1.044248e+06</td>\n",
       "      <td>9.907095</td>\n",
       "      <td>3105.301915</td>\n",
       "      <td>2.914728</td>\n",
       "      <td>1.534242</td>\n",
       "      <td>1.610075</td>\n",
       "      <td>440.496760</td>\n",
       "      <td>141.672011</td>\n",
       "      <td>1964.684217</td>\n",
       "      <td>-37.809203</td>\n",
       "      <td>144.995216</td>\n",
       "      <td>7454.417378</td>\n",
       "      <td>2016.533432</td>\n",
       "      <td>7.052283</td>\n",
       "      <td>16.053903</td>\n",
       "    </tr>\n",
       "    <tr>\n",
       "      <th>std</th>\n",
       "      <td>0.955748</td>\n",
       "      <td>5.271031e+05</td>\n",
       "      <td>5.056691</td>\n",
       "      <td>90.676964</td>\n",
       "      <td>0.965921</td>\n",
       "      <td>0.691712</td>\n",
       "      <td>0.960433</td>\n",
       "      <td>323.146283</td>\n",
       "      <td>32.894479</td>\n",
       "      <td>28.972246</td>\n",
       "      <td>0.079260</td>\n",
       "      <td>0.103916</td>\n",
       "      <td>4378.581772</td>\n",
       "      <td>0.498899</td>\n",
       "      <td>2.536034</td>\n",
       "      <td>8.523515</td>\n",
       "    </tr>\n",
       "    <tr>\n",
       "      <th>min</th>\n",
       "      <td>1.000000</td>\n",
       "      <td>8.500000e+04</td>\n",
       "      <td>0.000000</td>\n",
       "      <td>3000.000000</td>\n",
       "      <td>0.000000</td>\n",
       "      <td>0.000000</td>\n",
       "      <td>0.000000</td>\n",
       "      <td>0.000000</td>\n",
       "      <td>77.048525</td>\n",
       "      <td>1196.000000</td>\n",
       "      <td>-38.182550</td>\n",
       "      <td>144.431810</td>\n",
       "      <td>249.000000</td>\n",
       "      <td>2016.000000</td>\n",
       "      <td>1.000000</td>\n",
       "      <td>1.000000</td>\n",
       "    </tr>\n",
       "    <tr>\n",
       "      <th>25%</th>\n",
       "      <td>2.000000</td>\n",
       "      <td>6.500000e+05</td>\n",
       "      <td>6.100000</td>\n",
       "      <td>3044.000000</td>\n",
       "      <td>2.000000</td>\n",
       "      <td>1.000000</td>\n",
       "      <td>1.000000</td>\n",
       "      <td>177.000000</td>\n",
       "      <td>122.000000</td>\n",
       "      <td>1960.000000</td>\n",
       "      <td>-37.856822</td>\n",
       "      <td>144.929600</td>\n",
       "      <td>4380.000000</td>\n",
       "      <td>2016.000000</td>\n",
       "      <td>5.000000</td>\n",
       "      <td>8.000000</td>\n",
       "    </tr>\n",
       "    <tr>\n",
       "      <th>50%</th>\n",
       "      <td>3.000000</td>\n",
       "      <td>9.030000e+05</td>\n",
       "      <td>9.200000</td>\n",
       "      <td>3084.000000</td>\n",
       "      <td>3.000000</td>\n",
       "      <td>1.000000</td>\n",
       "      <td>2.000000</td>\n",
       "      <td>440.000000</td>\n",
       "      <td>151.967650</td>\n",
       "      <td>1964.684217</td>\n",
       "      <td>-37.802355</td>\n",
       "      <td>145.000100</td>\n",
       "      <td>6555.000000</td>\n",
       "      <td>2017.000000</td>\n",
       "      <td>7.000000</td>\n",
       "      <td>16.000000</td>\n",
       "    </tr>\n",
       "    <tr>\n",
       "      <th>75%</th>\n",
       "      <td>3.000000</td>\n",
       "      <td>1.330000e+06</td>\n",
       "      <td>13.000000</td>\n",
       "      <td>3148.000000</td>\n",
       "      <td>3.000000</td>\n",
       "      <td>2.000000</td>\n",
       "      <td>2.000000</td>\n",
       "      <td>651.000000</td>\n",
       "      <td>151.967650</td>\n",
       "      <td>1975.000000</td>\n",
       "      <td>-37.756400</td>\n",
       "      <td>145.058305</td>\n",
       "      <td>10331.000000</td>\n",
       "      <td>2017.000000</td>\n",
       "      <td>9.000000</td>\n",
       "      <td>24.000000</td>\n",
       "    </tr>\n",
       "    <tr>\n",
       "      <th>max</th>\n",
       "      <td>10.000000</td>\n",
       "      <td>2.350000e+06</td>\n",
       "      <td>23.350000</td>\n",
       "      <td>3977.000000</td>\n",
       "      <td>20.000000</td>\n",
       "      <td>8.000000</td>\n",
       "      <td>10.000000</td>\n",
       "      <td>1362.000000</td>\n",
       "      <td>196.919125</td>\n",
       "      <td>2018.000000</td>\n",
       "      <td>-37.408530</td>\n",
       "      <td>145.526350</td>\n",
       "      <td>21650.000000</td>\n",
       "      <td>2017.000000</td>\n",
       "      <td>12.000000</td>\n",
       "      <td>30.000000</td>\n",
       "    </tr>\n",
       "  </tbody>\n",
       "</table>\n",
       "</div>"
      ],
      "text/plain": [
       "              Rooms         Price      Distance      Postcode      Bedroom2  \\\n",
       "count  13580.000000  1.358000e+04  13580.000000  13580.000000  13580.000000   \n",
       "mean       2.937997  1.044248e+06      9.907095   3105.301915      2.914728   \n",
       "std        0.955748  5.271031e+05      5.056691     90.676964      0.965921   \n",
       "min        1.000000  8.500000e+04      0.000000   3000.000000      0.000000   \n",
       "25%        2.000000  6.500000e+05      6.100000   3044.000000      2.000000   \n",
       "50%        3.000000  9.030000e+05      9.200000   3084.000000      3.000000   \n",
       "75%        3.000000  1.330000e+06     13.000000   3148.000000      3.000000   \n",
       "max       10.000000  2.350000e+06     23.350000   3977.000000     20.000000   \n",
       "\n",
       "           Bathroom           Car      Landsize  BuildingArea     YearBuilt  \\\n",
       "count  13580.000000  13580.000000  13580.000000  13580.000000  13580.000000   \n",
       "mean       1.534242      1.610075    440.496760    141.672011   1964.684217   \n",
       "std        0.691712      0.960433    323.146283     32.894479     28.972246   \n",
       "min        0.000000      0.000000      0.000000     77.048525   1196.000000   \n",
       "25%        1.000000      1.000000    177.000000    122.000000   1960.000000   \n",
       "50%        1.000000      2.000000    440.000000    151.967650   1964.684217   \n",
       "75%        2.000000      2.000000    651.000000    151.967650   1975.000000   \n",
       "max        8.000000     10.000000   1362.000000    196.919125   2018.000000   \n",
       "\n",
       "          Lattitude    Longtitude  Propertycount          Year         Month  \\\n",
       "count  13580.000000  13580.000000   13580.000000  13580.000000  13580.000000   \n",
       "mean     -37.809203    144.995216    7454.417378   2016.533432      7.052283   \n",
       "std        0.079260      0.103916    4378.581772      0.498899      2.536034   \n",
       "min      -38.182550    144.431810     249.000000   2016.000000      1.000000   \n",
       "25%      -37.856822    144.929600    4380.000000   2016.000000      5.000000   \n",
       "50%      -37.802355    145.000100    6555.000000   2017.000000      7.000000   \n",
       "75%      -37.756400    145.058305   10331.000000   2017.000000      9.000000   \n",
       "max      -37.408530    145.526350   21650.000000   2017.000000     12.000000   \n",
       "\n",
       "                Day  \n",
       "count  13580.000000  \n",
       "mean      16.053903  \n",
       "std        8.523515  \n",
       "min        1.000000  \n",
       "25%        8.000000  \n",
       "50%       16.000000  \n",
       "75%       24.000000  \n",
       "max       30.000000  "
      ]
     },
     "execution_count": 12,
     "metadata": {},
     "output_type": "execute_result"
    }
   ],
   "source": [
    "\n",
    "def cap_outliers(df_clean, column):\n",
    "    Q1 = df_clean[column].quantile(0.25)\n",
    "    Q3 = df_clean[column].quantile(0.75)\n",
    "    IQR = Q3 - Q1\n",
    "    lower_bound = Q1 - 1.5 * IQR\n",
    "    upper_bound = Q3 + 1.5 * IQR\n",
    "    df_clean[column] = np.where(df_clean[column] > upper_bound, upper_bound, df_clean[column])\n",
    "    df_clean[column] = np.where(df_clean[column] < lower_bound, lower_bound, df_clean[column])\n",
    "    return df_clean\n",
    "\n",
    "\n",
    "\n",
    "# columns_to_check = ['Rooms', 'Method', 'Price','Distance', 'Postcode', 'Bedroom2', 'Bathroom', 'Car', 'Landsize', 'BuildingArea', 'YearBuilt', 'Lattitude', 'Longtitude', 'Propertycount']\n",
    "columns_to_check = ['Price','Distance', 'Landsize', 'BuildingArea']\n",
    "\n",
    "for col in columns_to_check:\n",
    "    df_clean = cap_outliers(df_clean, col)\n",
    "\n",
    "df_clean.describe()"
   ]
  },
  {
   "cell_type": "code",
   "execution_count": 13,
   "id": "09fd75f9",
   "metadata": {},
   "outputs": [
    {
     "data": {
      "text/html": [
       "<div>\n",
       "<style scoped>\n",
       "    .dataframe tbody tr th:only-of-type {\n",
       "        vertical-align: middle;\n",
       "    }\n",
       "\n",
       "    .dataframe tbody tr th {\n",
       "        vertical-align: top;\n",
       "    }\n",
       "\n",
       "    .dataframe thead th {\n",
       "        text-align: right;\n",
       "    }\n",
       "</style>\n",
       "<table border=\"1\" class=\"dataframe\">\n",
       "  <thead>\n",
       "    <tr style=\"text-align: right;\">\n",
       "      <th></th>\n",
       "      <th>Rooms</th>\n",
       "      <th>Price</th>\n",
       "      <th>Distance</th>\n",
       "      <th>Postcode</th>\n",
       "      <th>Bedroom2</th>\n",
       "      <th>Bathroom</th>\n",
       "      <th>Car</th>\n",
       "      <th>Landsize</th>\n",
       "      <th>BuildingArea</th>\n",
       "      <th>YearBuilt</th>\n",
       "      <th>Lattitude</th>\n",
       "      <th>Longtitude</th>\n",
       "      <th>Propertycount</th>\n",
       "      <th>Year</th>\n",
       "      <th>Month</th>\n",
       "      <th>Day</th>\n",
       "    </tr>\n",
       "  </thead>\n",
       "  <tbody>\n",
       "    <tr>\n",
       "      <th>0</th>\n",
       "      <td>2</td>\n",
       "      <td>1480000.0</td>\n",
       "      <td>2.5</td>\n",
       "      <td>3067.0</td>\n",
       "      <td>2.0</td>\n",
       "      <td>1.0</td>\n",
       "      <td>1.0</td>\n",
       "      <td>202.0</td>\n",
       "      <td>151.96765</td>\n",
       "      <td>1964.684217</td>\n",
       "      <td>-37.79960</td>\n",
       "      <td>144.99840</td>\n",
       "      <td>4019.0</td>\n",
       "      <td>2016</td>\n",
       "      <td>12</td>\n",
       "      <td>3</td>\n",
       "    </tr>\n",
       "    <tr>\n",
       "      <th>1</th>\n",
       "      <td>2</td>\n",
       "      <td>1035000.0</td>\n",
       "      <td>2.5</td>\n",
       "      <td>3067.0</td>\n",
       "      <td>2.0</td>\n",
       "      <td>1.0</td>\n",
       "      <td>0.0</td>\n",
       "      <td>156.0</td>\n",
       "      <td>79.00000</td>\n",
       "      <td>1900.000000</td>\n",
       "      <td>-37.80790</td>\n",
       "      <td>144.99340</td>\n",
       "      <td>4019.0</td>\n",
       "      <td>2016</td>\n",
       "      <td>2</td>\n",
       "      <td>4</td>\n",
       "    </tr>\n",
       "    <tr>\n",
       "      <th>2</th>\n",
       "      <td>3</td>\n",
       "      <td>1465000.0</td>\n",
       "      <td>2.5</td>\n",
       "      <td>3067.0</td>\n",
       "      <td>3.0</td>\n",
       "      <td>2.0</td>\n",
       "      <td>0.0</td>\n",
       "      <td>134.0</td>\n",
       "      <td>150.00000</td>\n",
       "      <td>1900.000000</td>\n",
       "      <td>-37.80930</td>\n",
       "      <td>144.99440</td>\n",
       "      <td>4019.0</td>\n",
       "      <td>2017</td>\n",
       "      <td>3</td>\n",
       "      <td>4</td>\n",
       "    </tr>\n",
       "    <tr>\n",
       "      <th>3</th>\n",
       "      <td>3</td>\n",
       "      <td>850000.0</td>\n",
       "      <td>2.5</td>\n",
       "      <td>3067.0</td>\n",
       "      <td>3.0</td>\n",
       "      <td>2.0</td>\n",
       "      <td>1.0</td>\n",
       "      <td>94.0</td>\n",
       "      <td>151.96765</td>\n",
       "      <td>1964.684217</td>\n",
       "      <td>-37.79690</td>\n",
       "      <td>144.99690</td>\n",
       "      <td>4019.0</td>\n",
       "      <td>2017</td>\n",
       "      <td>3</td>\n",
       "      <td>4</td>\n",
       "    </tr>\n",
       "    <tr>\n",
       "      <th>4</th>\n",
       "      <td>4</td>\n",
       "      <td>1600000.0</td>\n",
       "      <td>2.5</td>\n",
       "      <td>3067.0</td>\n",
       "      <td>3.0</td>\n",
       "      <td>1.0</td>\n",
       "      <td>2.0</td>\n",
       "      <td>120.0</td>\n",
       "      <td>142.00000</td>\n",
       "      <td>2014.000000</td>\n",
       "      <td>-37.80720</td>\n",
       "      <td>144.99410</td>\n",
       "      <td>4019.0</td>\n",
       "      <td>2016</td>\n",
       "      <td>6</td>\n",
       "      <td>4</td>\n",
       "    </tr>\n",
       "    <tr>\n",
       "      <th>...</th>\n",
       "      <td>...</td>\n",
       "      <td>...</td>\n",
       "      <td>...</td>\n",
       "      <td>...</td>\n",
       "      <td>...</td>\n",
       "      <td>...</td>\n",
       "      <td>...</td>\n",
       "      <td>...</td>\n",
       "      <td>...</td>\n",
       "      <td>...</td>\n",
       "      <td>...</td>\n",
       "      <td>...</td>\n",
       "      <td>...</td>\n",
       "      <td>...</td>\n",
       "      <td>...</td>\n",
       "      <td>...</td>\n",
       "    </tr>\n",
       "    <tr>\n",
       "      <th>13575</th>\n",
       "      <td>4</td>\n",
       "      <td>1245000.0</td>\n",
       "      <td>16.7</td>\n",
       "      <td>3150.0</td>\n",
       "      <td>4.0</td>\n",
       "      <td>2.0</td>\n",
       "      <td>2.0</td>\n",
       "      <td>652.0</td>\n",
       "      <td>151.96765</td>\n",
       "      <td>1981.000000</td>\n",
       "      <td>-37.90562</td>\n",
       "      <td>145.16761</td>\n",
       "      <td>7392.0</td>\n",
       "      <td>2017</td>\n",
       "      <td>8</td>\n",
       "      <td>26</td>\n",
       "    </tr>\n",
       "    <tr>\n",
       "      <th>13576</th>\n",
       "      <td>3</td>\n",
       "      <td>1031000.0</td>\n",
       "      <td>6.8</td>\n",
       "      <td>3016.0</td>\n",
       "      <td>3.0</td>\n",
       "      <td>2.0</td>\n",
       "      <td>2.0</td>\n",
       "      <td>333.0</td>\n",
       "      <td>133.00000</td>\n",
       "      <td>1995.000000</td>\n",
       "      <td>-37.85927</td>\n",
       "      <td>144.87904</td>\n",
       "      <td>6380.0</td>\n",
       "      <td>2017</td>\n",
       "      <td>8</td>\n",
       "      <td>26</td>\n",
       "    </tr>\n",
       "    <tr>\n",
       "      <th>13577</th>\n",
       "      <td>3</td>\n",
       "      <td>1170000.0</td>\n",
       "      <td>6.8</td>\n",
       "      <td>3016.0</td>\n",
       "      <td>3.0</td>\n",
       "      <td>2.0</td>\n",
       "      <td>4.0</td>\n",
       "      <td>436.0</td>\n",
       "      <td>151.96765</td>\n",
       "      <td>1997.000000</td>\n",
       "      <td>-37.85274</td>\n",
       "      <td>144.88738</td>\n",
       "      <td>6380.0</td>\n",
       "      <td>2017</td>\n",
       "      <td>8</td>\n",
       "      <td>26</td>\n",
       "    </tr>\n",
       "    <tr>\n",
       "      <th>13578</th>\n",
       "      <td>4</td>\n",
       "      <td>2500000.0</td>\n",
       "      <td>6.8</td>\n",
       "      <td>3016.0</td>\n",
       "      <td>4.0</td>\n",
       "      <td>1.0</td>\n",
       "      <td>5.0</td>\n",
       "      <td>866.0</td>\n",
       "      <td>157.00000</td>\n",
       "      <td>1920.000000</td>\n",
       "      <td>-37.85908</td>\n",
       "      <td>144.89299</td>\n",
       "      <td>6380.0</td>\n",
       "      <td>2017</td>\n",
       "      <td>8</td>\n",
       "      <td>26</td>\n",
       "    </tr>\n",
       "    <tr>\n",
       "      <th>13579</th>\n",
       "      <td>4</td>\n",
       "      <td>1285000.0</td>\n",
       "      <td>6.3</td>\n",
       "      <td>3013.0</td>\n",
       "      <td>4.0</td>\n",
       "      <td>1.0</td>\n",
       "      <td>1.0</td>\n",
       "      <td>362.0</td>\n",
       "      <td>112.00000</td>\n",
       "      <td>1920.000000</td>\n",
       "      <td>-37.81188</td>\n",
       "      <td>144.88449</td>\n",
       "      <td>6543.0</td>\n",
       "      <td>2017</td>\n",
       "      <td>8</td>\n",
       "      <td>26</td>\n",
       "    </tr>\n",
       "  </tbody>\n",
       "</table>\n",
       "<p>13580 rows × 16 columns</p>\n",
       "</div>"
      ],
      "text/plain": [
       "       Rooms      Price  Distance  Postcode  Bedroom2  Bathroom  Car  \\\n",
       "0          2  1480000.0       2.5    3067.0       2.0       1.0  1.0   \n",
       "1          2  1035000.0       2.5    3067.0       2.0       1.0  0.0   \n",
       "2          3  1465000.0       2.5    3067.0       3.0       2.0  0.0   \n",
       "3          3   850000.0       2.5    3067.0       3.0       2.0  1.0   \n",
       "4          4  1600000.0       2.5    3067.0       3.0       1.0  2.0   \n",
       "...      ...        ...       ...       ...       ...       ...  ...   \n",
       "13575      4  1245000.0      16.7    3150.0       4.0       2.0  2.0   \n",
       "13576      3  1031000.0       6.8    3016.0       3.0       2.0  2.0   \n",
       "13577      3  1170000.0       6.8    3016.0       3.0       2.0  4.0   \n",
       "13578      4  2500000.0       6.8    3016.0       4.0       1.0  5.0   \n",
       "13579      4  1285000.0       6.3    3013.0       4.0       1.0  1.0   \n",
       "\n",
       "       Landsize  BuildingArea    YearBuilt  Lattitude  Longtitude  \\\n",
       "0         202.0     151.96765  1964.684217  -37.79960   144.99840   \n",
       "1         156.0      79.00000  1900.000000  -37.80790   144.99340   \n",
       "2         134.0     150.00000  1900.000000  -37.80930   144.99440   \n",
       "3          94.0     151.96765  1964.684217  -37.79690   144.99690   \n",
       "4         120.0     142.00000  2014.000000  -37.80720   144.99410   \n",
       "...         ...           ...          ...        ...         ...   \n",
       "13575     652.0     151.96765  1981.000000  -37.90562   145.16761   \n",
       "13576     333.0     133.00000  1995.000000  -37.85927   144.87904   \n",
       "13577     436.0     151.96765  1997.000000  -37.85274   144.88738   \n",
       "13578     866.0     157.00000  1920.000000  -37.85908   144.89299   \n",
       "13579     362.0     112.00000  1920.000000  -37.81188   144.88449   \n",
       "\n",
       "       Propertycount  Year  Month  Day  \n",
       "0             4019.0  2016     12    3  \n",
       "1             4019.0  2016      2    4  \n",
       "2             4019.0  2017      3    4  \n",
       "3             4019.0  2017      3    4  \n",
       "4             4019.0  2016      6    4  \n",
       "...              ...   ...    ...  ...  \n",
       "13575         7392.0  2017      8   26  \n",
       "13576         6380.0  2017      8   26  \n",
       "13577         6380.0  2017      8   26  \n",
       "13578         6380.0  2017      8   26  \n",
       "13579         6543.0  2017      8   26  \n",
       "\n",
       "[13580 rows x 16 columns]"
      ]
     },
     "execution_count": 13,
     "metadata": {},
     "output_type": "execute_result"
    }
   ],
   "source": [
    "list1 = df.select_dtypes(include=[np.number])\n",
    "list1"
   ]
  },
  {
   "cell_type": "code",
   "execution_count": 14,
   "id": "c54d20117007377e",
   "metadata": {
    "ExecuteTime": {
     "end_time": "2024-12-17T17:45:10.933316Z",
     "start_time": "2024-12-17T17:45:10.130342Z"
    }
   },
   "outputs": [
    {
     "data": {
      "image/png": "[encoded data removed]",
      "text/plain": [
       "<Figure size 640x480 with 1 Axes>"
      ]
     },
     "metadata": {},
     "output_type": "display_data"
    },
    {
     "data": {
      "image/png": "[encoded data removed]",
      "text/plain": [
       "<Figure size 640x480 with 1 Axes>"
      ]
     },
     "metadata": {},
     "output_type": "display_data"
    },
    {
     "data": {
      "image/png": "[encoded data removed]",
      "text/plain": [
       "<Figure size 640x480 with 1 Axes>"
      ]
     },
     "metadata": {},
     "output_type": "display_data"
    },
    {
     "data": {
      "image/png": "[encoded data removed]",
      "text/plain": [
       "<Figure size 640x480 with 1 Axes>"
      ]
     },
     "metadata": {},
     "output_type": "display_data"
    }
   ],
   "source": [
    "plt.boxplot(df_clean['Price'])\n",
    "plt.title('Boxplot of Price')\n",
    "plt.show() \n",
    "\n",
    "plt.boxplot(df_clean['Distance'])\n",
    "plt.title('Boxplot of Distance')\n",
    "plt.show()\n",
    "\n",
    "plt.boxplot(df_clean['Landsize'])\n",
    "plt.title('Boxplot of Landsize')\n",
    "plt.show()\n",
    "\n",
    "plt.boxplot(df_clean['BuildingArea'])\n",
    "plt.title('Boxplot of BuildingArea')\n",
    "plt.show()\n"
   ]
  },
  {
   "cell_type": "code",
   "execution_count": 15,
   "id": "20a92807fe66bdea",
   "metadata": {
    "ExecuteTime": {
     "end_time": "2024-12-17T17:45:09.216493Z",
     "start_time": "2024-12-17T17:45:09.197675Z"
    }
   },
   "outputs": [
    {
     "name": "stdout",
     "output_type": "stream",
     "text": [
      "<class 'pandas.core.frame.DataFrame'>\n",
      "RangeIndex: 13580 entries, 0 to 13579\n",
      "Data columns (total 22 columns):\n",
      " #   Column         Non-Null Count  Dtype  \n",
      "---  ------         --------------  -----  \n",
      " 0   Suburb         13580 non-null  int64  \n",
      " 1   Rooms          13580 non-null  int64  \n",
      " 2   Type           13580 non-null  int64  \n",
      " 3   Price          13580 non-null  float64\n",
      " 4   Method         13580 non-null  int64  \n",
      " 5   SellerG        13580 non-null  int64  \n",
      " 6   Distance       13580 non-null  float64\n",
      " 7   Postcode       13580 non-null  float64\n",
      " 8   Bedroom2       13580 non-null  float64\n",
      " 9   Bathroom       13580 non-null  float64\n",
      " 10  Car            13580 non-null  float64\n",
      " 11  Landsize       13580 non-null  float64\n",
      " 12  BuildingArea   13580 non-null  float64\n",
      " 13  YearBuilt      13580 non-null  float64\n",
      " 14  CouncilArea    13580 non-null  int64  \n",
      " 15  Lattitude      13580 non-null  float64\n",
      " 16  Longtitude     13580 non-null  float64\n",
      " 17  Regionname     13580 non-null  int64  \n",
      " 18  Propertycount  13580 non-null  float64\n",
      " 19  Year           13580 non-null  int32  \n",
      " 20  Month          13580 non-null  int32  \n",
      " 21  Day            13580 non-null  int32  \n",
      "dtypes: float64(12), int32(3), int64(7)\n",
      "memory usage: 2.1 MB\n"
     ]
    }
   ],
   "source": [
    "le = LabelEncoder()\n",
    "\n",
    "df_clean['Type'] = le.fit_transform(df_clean['Type'])\n",
    "df_clean['Method'] = le.fit_transform(df_clean['Method'])\n",
    "df_clean['CouncilArea'] = le.fit_transform(df_clean['CouncilArea'])\n",
    "df_clean['Regionname'] = le.fit_transform(df_clean['Regionname'])\n",
    "df_clean['Suburb'] = le.fit_transform(df_clean['Suburb'])\n",
    "df_clean['SellerG'] = le.fit_transform(df_clean['SellerG'])\n",
    "\n",
    "\n",
    "df_clean.info()"
   ]
  },
  {
   "cell_type": "code",
   "execution_count": 16,
   "id": "6bc461e2e2621f73",
   "metadata": {
    "ExecuteTime": {
     "end_time": "2024-12-17T17:45:10.944108Z",
     "start_time": "2024-12-17T17:45:10.934373Z"
    }
   },
   "outputs": [
    {
     "name": "stdout",
     "output_type": "stream",
     "text": [
      "(13580, 21) (13580,)\n"
     ]
    }
   ],
   "source": [
    "\n",
    "x = df_clean.drop(['Price'] , axis = 1)\n",
    "\n",
    "y = df_clean['Price']\n",
    "\n",
    "print(x.shape, y.shape)"
   ]
  },
  {
   "cell_type": "markdown",
   "id": "e4b26206",
   "metadata": {},
   "source": [
    "# Linear Regression"
   ]
  },
  {
   "cell_type": "code",
   "execution_count": 17,
   "id": "2adc41b367b4269e",
   "metadata": {
    "ExecuteTime": {
     "end_time": "2024-12-17T17:45:10.996227Z",
     "start_time": "2024-12-17T17:45:10.945761Z"
    }
   },
   "outputs": [],
   "source": [
    "x_train,x_test,y_train,y_test = train_test_split(x,y,test_size=0.2,random_state=30)\n",
    "\n",
    "regressor = LinearRegression()\n",
    "regressor.fit(x_train,y_train)\n",
    "\n",
    "y_pred = regressor.predict(x_test)"
   ]
  },
  {
   "cell_type": "code",
   "execution_count": 18,
   "id": "6fdf9e41ea17ff5",
   "metadata": {
    "ExecuteTime": {
     "end_time": "2024-12-17T17:45:11.006302Z",
     "start_time": "2024-12-17T17:45:10.997271Z"
    }
   },
   "outputs": [
    {
     "name": "stdout",
     "output_type": "stream",
     "text": [
      "Mean squared error equals: 88633106697.58\n",
      "R squared equals:0.68 \n",
      "Mean Absolute Error equals:227297.18 \n"
     ]
    }
   ],
   "source": [
    "\n",
    "#calculate mean squared error\n",
    "mse = mean_squared_error(y_test,y_pred)\n",
    "print(f\"Mean squared error equals: {mse:.2f}\")\n",
    "\n",
    "#calculate r squared\n",
    "R_squared = r2_score(y_test, y_pred)\n",
    "print(f\"R squared equals:{R_squared:.2f} \")\n",
    "\n",
    "#calculate mean asolute error\n",
    "mae = mean_absolute_error(y_test,y_pred)\n",
    "print(f\"Mean Absolute Error equals:{mae:.2f} \",)"
   ]
  },
  {
   "cell_type": "markdown",
   "id": "20f269c5",
   "metadata": {},
   "source": [
    "# KNN"
   ]
  },
  {
   "cell_type": "code",
   "execution_count": 19,
   "id": "5050f3bd55346097",
   "metadata": {
    "ExecuteTime": {
     "end_time": "2024-12-17T17:45:11.024061Z",
     "start_time": "2024-12-17T17:45:11.007316Z"
    }
   },
   "outputs": [],
   "source": [
    "k = 9\n",
    "knn = KNeighborsRegressor(n_neighbors=k, metric = 'manhattan')\n",
    "\n",
    "#scale the model\n",
    "sc = StandardScaler()\n",
    "x_train = sc.fit_transform(x_train)\n",
    "x_test = sc.transform(x_test)\n",
    "\n",
    "knn.fit(x_train,y_train)\n",
    "\n",
    "y_pred = knn.predict(x_test)"
   ]
  },
  {
   "cell_type": "code",
   "execution_count": 20,
   "id": "5b7c2f734dd6d02e",
   "metadata": {
    "ExecuteTime": {
     "end_time": "2024-12-17T17:45:11.270391Z",
     "start_time": "2024-12-17T17:45:11.263272Z"
    }
   },
   "outputs": [
    {
     "name": "stdout",
     "output_type": "stream",
     "text": [
      "Mean squared error equals: 54964458955.03\n",
      "R squared equals:0.80 \n",
      "Mean Absolute Error equals:168937.94 \n"
     ]
    }
   ],
   "source": [
    "#calculate mean squared error\n",
    "mse = mean_squared_error(y_test,y_pred)\n",
    "print(f\"Mean squared error equals: {mse:.2f}\")\n",
    "\n",
    "#calculate r squared\n",
    "R_squared = r2_score(y_test, y_pred)\n",
    "print(f\"R squared equals:{R_squared:.2f} \")\n",
    "\n",
    "#calculate mean asolute error\n",
    "mae = mean_absolute_error(y_test,y_pred)\n",
    "print(f\"Mean Absolute Error equals:{mae:.2f} \",)"
   ]
  }
 ],
 "metadata": {
  "kernelspec": {
   "display_name": "Python 3",
   "language": "python",
   "name": "python3"
  },
  "language_info": {
   "codemirror_mode": {
    "name": "ipython",
    "version": 3
   },
   "file_extension": ".py",
   "mimetype": "text/x-python",
   "name": "python",
   "nbconvert_exporter": "python",
   "pygments_lexer": "ipython3",
   "version": "3.12.0"
  }
 },
 "nbformat": 4,
 "nbformat_minor": 5
}
